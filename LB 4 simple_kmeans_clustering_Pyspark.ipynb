{
  "nbformat": 4,
  "nbformat_minor": 0,
  "metadata": {
    "colab": {
      "provenance": []
    },
    "kernelspec": {
      "name": "python3",
      "display_name": "Python 3"
    },
    "language_info": {
      "name": "python"
    }
  },
  "cells": [
    {
      "cell_type": "code",
      "source": [
        "!pip install pyspark"
      ],
      "metadata": {
        "colab": {
          "base_uri": "https://localhost:8080/"
        },
        "id": "FlTNZsQJxxJn",
        "outputId": "78b10ce3-2b7b-4015-e8ed-aa0c2cbd2568"
      },
      "execution_count": 3,
      "outputs": [
        {
          "output_type": "stream",
          "name": "stdout",
          "text": [
            "Looking in indexes: https://pypi.org/simple, https://us-python.pkg.dev/colab-wheels/public/simple/\n",
            "Collecting pyspark\n",
            "  Downloading pyspark-3.3.2.tar.gz (281.4 MB)\n",
            "\u001b[2K     \u001b[90m━━━━━━━━━━━━━━━━━━━━━━━━━━━━━━━━━━━━━━━\u001b[0m \u001b[32m281.4/281.4 MB\u001b[0m \u001b[31m4.3 MB/s\u001b[0m eta \u001b[36m0:00:00\u001b[0m\n",
            "\u001b[?25h  Preparing metadata (setup.py) ... \u001b[?25l\u001b[?25hdone\n",
            "Collecting py4j==0.10.9.5\n",
            "  Downloading py4j-0.10.9.5-py2.py3-none-any.whl (199 kB)\n",
            "\u001b[2K     \u001b[90m━━━━━━━━━━━━━━━━━━━━━━━━━━━━━━━━━━━━━━\u001b[0m \u001b[32m199.7/199.7 KB\u001b[0m \u001b[31m17.7 MB/s\u001b[0m eta \u001b[36m0:00:00\u001b[0m\n",
            "\u001b[?25hBuilding wheels for collected packages: pyspark\n",
            "  Building wheel for pyspark (setup.py) ... \u001b[?25l\u001b[?25hdone\n",
            "  Created wheel for pyspark: filename=pyspark-3.3.2-py2.py3-none-any.whl size=281824028 sha256=48cef5a8fb5fb3ad4410c83c45370b1459bf27cdb06cc7abba0bcb4b731e50ec\n",
            "  Stored in directory: /root/.cache/pip/wheels/6c/e3/9b/0525ce8a69478916513509d43693511463c6468db0de237c86\n",
            "Successfully built pyspark\n",
            "Installing collected packages: py4j, pyspark\n",
            "  Attempting uninstall: py4j\n",
            "    Found existing installation: py4j 0.10.9.7\n",
            "    Uninstalling py4j-0.10.9.7:\n",
            "      Successfully uninstalled py4j-0.10.9.7\n",
            "Successfully installed py4j-0.10.9.5 pyspark-3.3.2\n"
          ]
        }
      ]
    },
    {
      "cell_type": "code",
      "source": [
        "from pyspark.context import SparkContext\n",
        "from pyspark.sql.session import SparkSession\n",
        "sc = SparkContext.getOrCreate()\n",
        "spark = SparkSession(sc)"
      ],
      "metadata": {
        "id": "wXR03kRBynWc"
      },
      "execution_count": 5,
      "outputs": []
    },
    {
      "cell_type": "code",
      "source": [
        "df =spark.createDataFrame([[0, 35.3, 37.5],[1, 41.4, -23.5],[2, 28.3, -13.3],[3, 09.5, -9.0],\n",
        "                               [4, 62.8, -18.23],\n",
        " \t  [5, 63.8, -18.33],\n",
        "   \t[6, 82.8, -17.23],\n",
        "   \t[7, 52.8, -13.43],\n",
        "   \t[8, 72.8, 48.23],\n",
        "   \t[9, 65.8, 15.43],\n",
        "   \t[10, 42.8, -13.23]],[\"ID\",\"Att_1\", \"Att_2\"])\n",
        "df.show()"
      ],
      "metadata": {
        "colab": {
          "base_uri": "https://localhost:8080/"
        },
        "id": "uPWJgLrRyrRE",
        "outputId": "ec044355-6c8d-4c06-de53-d9513b7217d0"
      },
      "execution_count": 10,
      "outputs": [
        {
          "output_type": "stream",
          "name": "stdout",
          "text": [
            "+---+-----+------+\n",
            "| ID|Att_1| Att_2|\n",
            "+---+-----+------+\n",
            "|  0| 35.3|  37.5|\n",
            "|  1| 41.4| -23.5|\n",
            "|  2| 28.3| -13.3|\n",
            "|  3|  9.5|  -9.0|\n",
            "|  4| 62.8|-18.23|\n",
            "|  5| 63.8|-18.33|\n",
            "|  6| 82.8|-17.23|\n",
            "|  7| 52.8|-13.43|\n",
            "|  8| 72.8| 48.23|\n",
            "|  9| 65.8| 15.43|\n",
            "| 10| 42.8|-13.23|\n",
            "+---+-----+------+\n",
            "\n"
          ]
        }
      ]
    },
    {
      "cell_type": "code",
      "source": [
        "from pyspark.ml.feature import VectorAssembler\n",
        "vecAssembler = VectorAssembler(inputCols=[\"Att_1\", \"Att_2\"], outputCol=\"features\")"
      ],
      "metadata": {
        "id": "2M-EIIdxzaEH"
      },
      "execution_count": 12,
      "outputs": []
    },
    {
      "cell_type": "code",
      "source": [
        "new_df = vecAssembler.transform(df)\n",
        "new_df.show()"
      ],
      "metadata": {
        "colab": {
          "base_uri": "https://localhost:8080/"
        },
        "id": "MNBnuvkr3MSF",
        "outputId": "c6cfdf76-cb18-4540-a526-ab3df5117c8d"
      },
      "execution_count": 13,
      "outputs": [
        {
          "output_type": "stream",
          "name": "stdout",
          "text": [
            "+---+-----+------+-------------+\n",
            "| ID|Att_1| Att_2|     features|\n",
            "+---+-----+------+-------------+\n",
            "|  0| 35.3|  37.5|  [35.3,37.5]|\n",
            "|  1| 41.4| -23.5| [41.4,-23.5]|\n",
            "|  2| 28.3| -13.3| [28.3,-13.3]|\n",
            "|  3|  9.5|  -9.0|   [9.5,-9.0]|\n",
            "|  4| 62.8|-18.23|[62.8,-18.23]|\n",
            "|  5| 63.8|-18.33|[63.8,-18.33]|\n",
            "|  6| 82.8|-17.23|[82.8,-17.23]|\n",
            "|  7| 52.8|-13.43|[52.8,-13.43]|\n",
            "|  8| 72.8| 48.23| [72.8,48.23]|\n",
            "|  9| 65.8| 15.43| [65.8,15.43]|\n",
            "| 10| 42.8|-13.23|[42.8,-13.23]|\n",
            "+---+-----+------+-------------+\n",
            "\n"
          ]
        }
      ]
    },
    {
      "cell_type": "code",
      "source": [
        "from pyspark.ml.clustering import KMeans\n",
        "kmeans = KMeans(k=3, seed=1)\n",
        "model = kmeans.fit(new_df.select('features'))\n",
        "transformed = model.transform(new_df)\n",
        "transformed.show()"
      ],
      "metadata": {
        "colab": {
          "base_uri": "https://localhost:8080/"
        },
        "id": "G2jopusV4oC4",
        "outputId": "a58bf95f-9af5-4ecd-f89d-c4688d8917d6"
      },
      "execution_count": 15,
      "outputs": [
        {
          "output_type": "stream",
          "name": "stdout",
          "text": [
            "+---+-----+------+-------------+----------+\n",
            "| ID|Att_1| Att_2|     features|prediction|\n",
            "+---+-----+------+-------------+----------+\n",
            "|  0| 35.3|  37.5|  [35.3,37.5]|         1|\n",
            "|  1| 41.4| -23.5| [41.4,-23.5]|         0|\n",
            "|  2| 28.3| -13.3| [28.3,-13.3]|         0|\n",
            "|  3|  9.5|  -9.0|   [9.5,-9.0]|         0|\n",
            "|  4| 62.8|-18.23|[62.8,-18.23]|         2|\n",
            "|  5| 63.8|-18.33|[63.8,-18.33]|         2|\n",
            "|  6| 82.8|-17.23|[82.8,-17.23]|         2|\n",
            "|  7| 52.8|-13.43|[52.8,-13.43]|         2|\n",
            "|  8| 72.8| 48.23| [72.8,48.23]|         1|\n",
            "|  9| 65.8| 15.43| [65.8,15.43]|         2|\n",
            "| 10| 42.8|-13.23|[42.8,-13.23]|         0|\n",
            "+---+-----+------+-------------+----------+\n",
            "\n"
          ]
        }
      ]
    }
  ]
}