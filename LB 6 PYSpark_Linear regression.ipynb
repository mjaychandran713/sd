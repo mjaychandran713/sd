{
  "cells": [
    {
      "cell_type": "markdown",
      "id": "16da6c54",
      "metadata": {
        "id": "16da6c54"
      },
      "source": [
        "### Examples Of Pyspark ML"
      ]
    },
    {
      "cell_type": "code",
      "execution_count": null,
      "id": "0b9da3ad",
      "metadata": {
        "id": "0b9da3ad"
      },
      "outputs": [],
      "source": [
        "from pyspark.sql import SparkSession\n",
        "spark=SparkSession.builder.appName('Missing').getOrCreate()"
      ]
    },
    {
      "cell_type": "code",
      "execution_count": null,
      "id": "735525da",
      "metadata": {
        "id": "735525da"
      },
      "outputs": [],
      "source": [
        "## Read The dataset\n",
        "training = spark.read.csv('test1.csv',header=True,inferSchema=True)"
      ]
    },
    {
      "cell_type": "code",
      "execution_count": null,
      "id": "d6e038c9",
      "metadata": {
        "id": "d6e038c9",
        "outputId": "2f0cc25d-9e2b-4cab-c0aa-f6903513653d"
      },
      "outputs": [
        {
          "name": "stdout",
          "output_type": "stream",
          "text": [
            "+---------+---+----------+------+\n",
            "|     Name|age|Experience|Salary|\n",
            "+---------+---+----------+------+\n",
            "|    Krish| 31|        10| 30000|\n",
            "|Sudhanshu| 30|         8| 25000|\n",
            "|    Sunny| 29|         4| 20000|\n",
            "|     Paul| 24|         3| 20000|\n",
            "|   Harsha| 21|         1| 15000|\n",
            "|  Shubham| 23|         2| 18000|\n",
            "+---------+---+----------+------+\n",
            "\n"
          ]
        }
      ],
      "source": [
        "training.show()\n",
        "\n"
      ]
    },
    {
      "cell_type": "code",
      "execution_count": null,
      "id": "6b3dd5ff",
      "metadata": {
        "id": "6b3dd5ff",
        "outputId": "9074a48c-14d8-4a73-a58b-cad454251529"
      },
      "outputs": [
        {
          "name": "stdout",
          "output_type": "stream",
          "text": [
            "root\n",
            " |-- Name: string (nullable = true)\n",
            " |-- age: integer (nullable = true)\n",
            " |-- Experience: integer (nullable = true)\n",
            " |-- Salary: integer (nullable = true)\n",
            "\n"
          ]
        }
      ],
      "source": [
        "training.printSchema()"
      ]
    },
    {
      "cell_type": "code",
      "execution_count": null,
      "id": "5d3227e6",
      "metadata": {
        "id": "5d3227e6",
        "outputId": "96a69c5f-9778-4d22-8343-f908e1b99a7a"
      },
      "outputs": [
        {
          "data": {
            "text/plain": [
              "['Name', 'age', 'Experience', 'Salary']"
            ]
          },
          "execution_count": 75,
          "metadata": {},
          "output_type": "execute_result"
        }
      ],
      "source": [
        "training.columns"
      ]
    },
    {
      "cell_type": "code",
      "execution_count": null,
      "id": "cffef5b9",
      "metadata": {
        "id": "cffef5b9"
      },
      "outputs": [],
      "source": [
        "[Age,Experience]----> new feature--->independent feature"
      ]
    },
    {
      "cell_type": "code",
      "execution_count": null,
      "id": "e6273555",
      "metadata": {
        "id": "e6273555"
      },
      "outputs": [],
      "source": [
        "from pyspark.ml.feature import VectorAssembler\n",
        "featureassembler=VectorAssembler(inputCols=[\"age\",\"Experience\"],outputCol=\"Independent Features\")"
      ]
    },
    {
      "cell_type": "code",
      "execution_count": null,
      "id": "0b69744c",
      "metadata": {
        "id": "0b69744c"
      },
      "outputs": [],
      "source": [
        "output=featureassembler.transform(training)"
      ]
    },
    {
      "cell_type": "code",
      "execution_count": null,
      "id": "60961194",
      "metadata": {
        "id": "60961194",
        "outputId": "1cc7cf0a-095e-4677-c276-dcac9925a460"
      },
      "outputs": [
        {
          "name": "stdout",
          "output_type": "stream",
          "text": [
            "+---------+---+----------+------+--------------------+\n",
            "|     Name|age|Experience|Salary|Independent Features|\n",
            "+---------+---+----------+------+--------------------+\n",
            "|    Krish| 31|        10| 30000|         [31.0,10.0]|\n",
            "|Sudhanshu| 30|         8| 25000|          [30.0,8.0]|\n",
            "|    Sunny| 29|         4| 20000|          [29.0,4.0]|\n",
            "|     Paul| 24|         3| 20000|          [24.0,3.0]|\n",
            "|   Harsha| 21|         1| 15000|          [21.0,1.0]|\n",
            "|  Shubham| 23|         2| 18000|          [23.0,2.0]|\n",
            "+---------+---+----------+------+--------------------+\n",
            "\n"
          ]
        }
      ],
      "source": [
        "output.show()"
      ]
    },
    {
      "cell_type": "code",
      "execution_count": null,
      "id": "2c27434a",
      "metadata": {
        "id": "2c27434a",
        "outputId": "391861ec-6d96-4f21-85bc-d5680fb39e92"
      },
      "outputs": [
        {
          "data": {
            "text/plain": [
              "['Name', 'age', 'Experience', 'Salary', 'Independent Features']"
            ]
          },
          "execution_count": 79,
          "metadata": {},
          "output_type": "execute_result"
        }
      ],
      "source": [
        "output.columns"
      ]
    },
    {
      "cell_type": "code",
      "execution_count": null,
      "id": "54a0ccab",
      "metadata": {
        "id": "54a0ccab"
      },
      "outputs": [],
      "source": [
        "finalized_data=output.select(\"Independent Features\",\"Salary\")"
      ]
    },
    {
      "cell_type": "code",
      "execution_count": null,
      "id": "f7a73845",
      "metadata": {
        "id": "f7a73845",
        "outputId": "47fcd751-923e-45b5-8506-c8a5a7afa208"
      },
      "outputs": [
        {
          "name": "stdout",
          "output_type": "stream",
          "text": [
            "+--------------------+------+\n",
            "|Independent Features|Salary|\n",
            "+--------------------+------+\n",
            "|         [31.0,10.0]| 30000|\n",
            "|          [30.0,8.0]| 25000|\n",
            "|          [29.0,4.0]| 20000|\n",
            "|          [24.0,3.0]| 20000|\n",
            "|          [21.0,1.0]| 15000|\n",
            "|          [23.0,2.0]| 18000|\n",
            "+--------------------+------+\n",
            "\n"
          ]
        }
      ],
      "source": [
        "finalized_data.show()"
      ]
    },
    {
      "cell_type": "code",
      "execution_count": null,
      "id": "0b11192b",
      "metadata": {
        "id": "0b11192b"
      },
      "outputs": [],
      "source": [
        "from pyspark.ml.regression import LinearRegression\n",
        "##train test split\n",
        "train_data,test_data=finalized_data.randomSplit([0.75,0.25])\n",
        "regressor=LinearRegression(featuresCol='Independent Features', labelCol='Salary')\n",
        "regressor=regressor.fit(train_data)"
      ]
    },
    {
      "cell_type": "code",
      "execution_count": null,
      "id": "fa4ec997",
      "metadata": {
        "id": "fa4ec997",
        "outputId": "1e12b422-5dde-44a8-d381-5a533d723a00"
      },
      "outputs": [
        {
          "data": {
            "text/plain": [
              "DenseVector([-5000.0, 7000.0])"
            ]
          },
          "execution_count": 83,
          "metadata": {},
          "output_type": "execute_result"
        }
      ],
      "source": [
        "### Coefficients\n",
        "regressor.coefficients"
      ]
    },
    {
      "cell_type": "code",
      "execution_count": null,
      "id": "eba911b6",
      "metadata": {
        "id": "eba911b6",
        "outputId": "40374771-211b-4c81-a1f7-35f20840517e"
      },
      "outputs": [
        {
          "data": {
            "text/plain": [
              "118999.99999893687"
            ]
          },
          "execution_count": 84,
          "metadata": {},
          "output_type": "execute_result"
        }
      ],
      "source": [
        "### Intercepts\n",
        "regressor.intercept"
      ]
    },
    {
      "cell_type": "code",
      "execution_count": null,
      "id": "2ba2bc70",
      "metadata": {
        "id": "2ba2bc70"
      },
      "outputs": [],
      "source": [
        "### Prediction\n",
        "pred_results=regressor.evaluate(test_data)"
      ]
    },
    {
      "cell_type": "code",
      "execution_count": null,
      "id": "489d6392",
      "metadata": {
        "id": "489d6392",
        "outputId": "325abd3b-eff5-46f8-9435-cac7d6b5d0db"
      },
      "outputs": [
        {
          "name": "stdout",
          "output_type": "stream",
          "text": [
            "+--------------------+------+-----------------+\n",
            "|Independent Features|Salary|       prediction|\n",
            "+--------------------+------+-----------------+\n",
            "|          [21.0,1.0]| 15000|20999.99999996154|\n",
            "|          [29.0,4.0]| 20000|2000.000000192551|\n",
            "|         [31.0,10.0]| 30000|33999.99999993094|\n",
            "+--------------------+------+-----------------+\n",
            "\n"
          ]
        }
      ],
      "source": [
        "pred_results.predictions.show()"
      ]
    },
    {
      "cell_type": "code",
      "execution_count": null,
      "id": "0534e854",
      "metadata": {
        "id": "0534e854",
        "outputId": "3f1c37a0-839c-47db-c855-f2b01027f9c3"
      },
      "outputs": [
        {
          "data": {
            "text/plain": [
              "(9333.333333233308, 125333333.3306847)"
            ]
          },
          "execution_count": 87,
          "metadata": {},
          "output_type": "execute_result"
        }
      ],
      "source": [
        "pred_results.meanAbsoluteError,pred_results.meanSquaredError"
      ]
    },
    {
      "cell_type": "code",
      "execution_count": null,
      "id": "70de559b",
      "metadata": {
        "id": "70de559b"
      },
      "outputs": [],
      "source": []
    }
  ],
  "metadata": {
    "kernelspec": {
      "display_name": "Python 3",
      "language": "python",
      "name": "python3"
    },
    "language_info": {
      "codemirror_mode": {
        "name": "ipython",
        "version": 3
      },
      "file_extension": ".py",
      "mimetype": "text/x-python",
      "name": "python",
      "nbconvert_exporter": "python",
      "pygments_lexer": "ipython3",
      "version": "3.7.10"
    },
    "colab": {
      "provenance": []
    }
  },
  "nbformat": 4,
  "nbformat_minor": 5
}